{
 "cells": [
  {
   "cell_type": "markdown",
   "metadata": {},
   "source": [
    "# A more Humanly Readable version of Word2Quiz - Written in Jupyter!\n",
    "I've converted nearly everything from my code to Jupyter for maintenance ease purposes. This will probably not going to get released to the public so I have no idea why I'm writing this right now. lol"
   ]
  },
  {
   "cell_type": "code",
   "execution_count": null,
   "metadata": {},
   "outputs": [],
   "source": [
    "from assets.file_manage import convertDoc2Txt, formatter\n",
    "from assets.file_manage import filterer, start\n",
    "from selenium import webdriver\n",
    "\n",
    "import time\n",
    "\n",
    "from colorama import Back, Fore, Style\n",
    "# print(Fore.YELLOW)\n",
    "import docx2txt\n",
    "from selenium.webdriver.common.by import By\n",
    "from selenium.webdriver.common.keys import Keys\n",
    "from selenium.webdriver.support.wait import WebDriverWait\n",
    "from selenium.webdriver.support import expected_conditions as EC\n",
    "import selenium.common.exceptions as exc\n",
    "from selenium.webdriver.common.action_chains import ActionChains"
   ]
  },
  {
   "cell_type": "code",
   "execution_count": null,
   "metadata": {},
   "outputs": [],
   "source": [
    "# Load Enviroment Variables\n",
    "import os\n",
    "from dotenv import load_dotenv, dotenv_values\n",
    "load_dotenv()\n",
    "\n",
    "EMAIL = os.getenv(\"EMAIL\")\n",
    "PASS_WORD = os.getenv(\"PASSWORD\")\n",
    "FILE_DIR = os.getenv(\"FILE_DIR\")\n",
    "ANSWER_SHEET = os.getenv(\"ANSWERS\")"
   ]
  },
  {
   "cell_type": "markdown",
   "metadata": {},
   "source": [
    "### Commonly used informations\n",
    "- `OPT`: Should be default \"2\" cuz I don't remember its use lol\n",
    "- `EMAIL / PASSWORD`: The name is self-explanatory\n",
    "- `FILE_DIR`: Should be written in Windows' format\n",
    "- `MODE`: Should also default in \"2\" for linear scan mode\n",
    "- `ANSWER_SHEET`: To use with MODE 2\n"
   ]
  },
  {
   "cell_type": "code",
   "execution_count": null,
   "metadata": {},
   "outputs": [],
   "source": [
    "OPT = \"2\"\n",
    "MODE = \"2\"\n"
   ]
  },
  {
   "cell_type": "code",
   "execution_count": null,
   "metadata": {},
   "outputs": [],
   "source": [
    "currentDocxString = convertDoc2Txt(FILE_DIR)\n",
    "currentDocxString = formatter(currentDocxString)\n",
    "finalizedDictionary = filterer(ANSWER_SHEET, MODE, currentDocxString)\n",
    "\n",
    "driver = webdriver.ChromiumEdge()\n",
    "driver.get(\"https://www.quizizz.com/login\")\n",
    "actions = ActionChains(driver)\n",
    "\n",
    "# start(driver, finalizedDictionary, mail, passwd)"
   ]
  },
  {
   "cell_type": "markdown",
   "metadata": {},
   "source": [
    "### Signing in code block\n",
    "- Extra Note: Skip the following block code if you want to sign-in using other options.\n",
    "- `SIGNIN`: Basically the button that used to select the sign-in using Email option.\n",
    "- `EMAIL_ENTRY`: The textbox that used to insert the user's email.\n",
    "- `PASS_ENTRY`: The textbox that used to insert the user's password.\n",
    "\n",
    "There're currently some problem with the password insertion progress"
   ]
  },
  {
   "cell_type": "code",
   "execution_count": null,
   "metadata": {},
   "outputs": [],
   "source": [
    "SIGNIN = (\n",
    "    r'//*[@id=\"base-0\"]/div/div[2]/div[2]/section/section/section/section[1]/section/section[2]/section[1]/button[2]'\n",
    ")\n",
    "\n",
    "EMAIL_ENTRY = r'//*[@id=\"email-field-input\"]'\n",
    "EMAIL_CONT = r'//*[@id=\"base-0\"]/div/div[2]/div[2]/section/section/section/section[1]/div/form/button[2]'\n",
    "driver.find_element(By.XPATH, SIGNIN).click()\n",
    "emailTxt = driver.find_element(By.XPATH, EMAIL_ENTRY)\n",
    "emailTxt.clear()\n",
    "emailTxt.send_keys(EMAIL)\n",
    "driver.find_element(By.XPATH, EMAIL_CONT).click()\n",
    "\n",
    "# PASS_ENTRY = r'//*[@id=\"password-field-input\"]'\n",
    "# passdTxt = driver.find_element(By.XPATH, PASS_ENTRY)\n",
    "# passdTxt.clear()\n",
    "# passdTxt.send_keys(PASS_WORD)\n",
    "# driver.find_element(By.XPATH, EMAIL_CONT).click()\n",
    "print(PASS_WORD)"
   ]
  },
  {
   "cell_type": "code",
   "execution_count": null,
   "metadata": {},
   "outputs": [],
   "source": [
    "driver.get('https://quizizz.com/admin?modal=contentCreation&type=quiz')\n",
    "\n",
    "NEW_QUIZ = r'//*[@id=\"app-body-container\"]/section/div/div[2]/div/div[2]/div[1]/button'\n",
    "WebDriverWait(driver, 60).until(\n",
    "    EC.presence_of_element_located((By.XPATH, NEW_QUIZ)))\n",
    "# driver.find_element(By.XPATH, NEW_QUIZ).click()"
   ]
  },
  {
   "cell_type": "code",
   "execution_count": null,
   "metadata": {},
   "outputs": [],
   "source": [
    "SUBMIT_BTN = r'//*[@id=\"question-editor-container-mobile\"]/main/footer/button'\n",
    "NEW_QUESTION = r'//*[@id=\"quiz-editor-content\"]/section/section/div[4]/div/div/div/div[1]/div[1]/button'\n",
    "ENTRY = r'//*[@id=\"quiz-editor-content\"]/section/div[4]/div/div[2]/div/button'\n",
    "NEW_LOOP = (\n",
    "    r'//*[@id=\"modal-layer-2\"]/div/div/div/body/div/div/div/div[2]/div[1]/button'\n",
    ")\n",
    "TITLE = (\n",
    "    r'//*[@id=\"query-editor-tiptap-wrapper\"]/div[2]'\n",
    ")"
   ]
  },
  {
   "cell_type": "code",
   "execution_count": null,
   "metadata": {},
   "outputs": [],
   "source": [
    "\n",
    "\n",
    "\n",
    "WebDriverWait(driver, 60).until(\n",
    "    EC.presence_of_element_located(\n",
    "        (By.XPATH, NEW_QUESTION))\n",
    ")\n",
    "driver.find_element(By.XPATH, NEW_QUESTION).click()\n",
    "\n",
    "for questionStack in finalizedDictionary.values():\n",
    "    # Interact\n",
    "    driver.find_element(By.XPATH, TITLE).click()\n",
    "    actions.send_keys(questionStack['title'])\n",
    "    actions.perform()\n",
    "    for i in range(len(questionStack['options'])):\n",
    "        driver.find_element(By.XPATH, f'//*[@id=\"question-editor-container-mobile\"]/main/div/section/div/div[2]/div[1]/div[{i+1}]/div[2]').click()\n",
    "        actions.send_keys(questionStack['options'][i])\n",
    "        actions.perform()\n",
    "        if questionStack['options'][i] == questionStack['answer']:\n",
    "            time.sleep(0.5)\n",
    "            driver.find_element(By.XPATH, f'//*[@id=\"question-editor-container-mobile\"]/main/div/section/div/div[2]/div[1]/div[{i+1}]/div[1]/button[2]').click()\n",
    "            # time.sleep(0)\n",
    "            # actions.key_down(Keys.CONTROL).send_keys(\"M\").key_up(Keys.CONTROL).perform()\n",
    "            # driver.execute_script('arguments[0].click();',\n",
    "                                #   driver.find_element(By.XPATH, f'//*[@id=\"question-editor-container-mobile\"]/main/div/section/div/div[2]/div[1]/div[{i+1}]/div[1]/button[3]'))\n",
    "            # driver.find_element(By.XPATH,\n",
    "            #                     f\"/html/body/div[1]/div[1]/div/div[2]/main/div/section/div/div[2]/div[1]/div[{i+1}]/div[1]/button[3]\").click()\n",
    "    time.sleep(0.5)\n",
    "    driver.find_element(By.XPATH, SUBMIT_BTN).click()\n",
    "    # actions.key_down(Keys.CONTROL).send_keys(\"S\").key_up(Keys.CONTROL).perform()\n",
    "\n",
    "    # ? ======================== ONE QUESTION LOOP DONE ===============\n",
    "\n",
    "    # ? ======================== GENERATING A NEW CYCLE ===============\n",
    "    if (questionStack['title'] ==\n",
    "            finalizedDictionary[len(finalizedDictionary) - 1]['title']):\n",
    "        break\n",
    "    WebDriverWait(driver, 30).until(\n",
    "        EC.presence_of_element_located(\n",
    "            (By.XPATH, ENTRY))\n",
    "    )\n",
    "    driver.execute_script('arguments[0].click();',\n",
    "                            driver.find_element(By.XPATH, ENTRY))\n",
    "    WebDriverWait(driver, 30).until(\n",
    "        EC.presence_of_element_located((\n",
    "            By.XPATH, NEW_LOOP))\n",
    "    )\n",
    "    driver.execute_script(\n",
    "        'arguments[0].click();',\n",
    "        driver.find_element(By.XPATH, NEW_LOOP))"
   ]
  },
  {
   "cell_type": "code",
   "execution_count": null,
   "metadata": {},
   "outputs": [],
   "source": []
  }
 ],
 "metadata": {
  "kernelspec": {
   "display_name": ".venv",
   "language": "python",
   "name": "python3"
  },
  "language_info": {
   "codemirror_mode": {
    "name": "ipython",
    "version": 3
   },
   "file_extension": ".py",
   "mimetype": "text/x-python",
   "name": "python",
   "nbconvert_exporter": "python",
   "pygments_lexer": "ipython3",
   "version": "3.11.8"
  }
 },
 "nbformat": 4,
 "nbformat_minor": 2
}
